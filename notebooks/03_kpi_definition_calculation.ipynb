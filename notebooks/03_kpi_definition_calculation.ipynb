{
 "cells": [
  {
   "cell_type": "code",
   "execution_count": 20,
   "id": "7f2a1b47",
   "metadata": {},
   "outputs": [],
   "source": [
    "import numpy as np\n",
    "import pandas as pd\n",
    "\n",
    "import matplotlib.pyplot as plt\n",
    "%matplotlib inline\n",
    "import seaborn as sns"
   ]
  },
  {
   "cell_type": "code",
   "execution_count": 4,
   "id": "d202b4f4",
   "metadata": {},
   "outputs": [
    {
     "data": {
      "application/vnd.microsoft.datawrangler.viewer.v0+json": {
       "columns": [
        {
         "name": "index",
         "rawType": "int64",
         "type": "integer"
        },
        {
         "name": "Store",
         "rawType": "int64",
         "type": "integer"
        },
        {
         "name": "Date",
         "rawType": "object",
         "type": "string"
        },
        {
         "name": "Weekly_Sales",
         "rawType": "float64",
         "type": "float"
        },
        {
         "name": "Holiday_Flag",
         "rawType": "int64",
         "type": "integer"
        },
        {
         "name": "Temperature",
         "rawType": "float64",
         "type": "float"
        },
        {
         "name": "Fuel_Price",
         "rawType": "float64",
         "type": "float"
        },
        {
         "name": "CPI",
         "rawType": "float64",
         "type": "float"
        },
        {
         "name": "Unemployment",
         "rawType": "float64",
         "type": "float"
        },
        {
         "name": "Holiday_Event",
         "rawType": "object",
         "type": "string"
        },
        {
         "name": "day",
         "rawType": "int64",
         "type": "integer"
        },
        {
         "name": "month",
         "rawType": "int64",
         "type": "integer"
        },
        {
         "name": "year",
         "rawType": "int64",
         "type": "integer"
        }
       ],
       "ref": "2a1e35e6-bc32-4504-b0d0-d4e295c27d44",
       "rows": [
        [
         "0",
         "1",
         "2010-02-05",
         "1643690.9",
         "0",
         "42.31",
         "2.572",
         "211.0963582",
         "8.106",
         "Not a holiday",
         "5",
         "2",
         "2010"
        ],
        [
         "1",
         "1",
         "2010-02-12",
         "1641957.44",
         "1",
         "38.51",
         "2.548",
         "211.2421698",
         "8.106",
         "Super Bowl Week",
         "12",
         "2",
         "2010"
        ],
        [
         "2",
         "1",
         "2010-02-19",
         "1611968.17",
         "0",
         "39.93",
         "2.514",
         "211.2891429",
         "8.106",
         "Not a holiday",
         "19",
         "2",
         "2010"
        ],
        [
         "3",
         "1",
         "2010-02-26",
         "1409727.59",
         "0",
         "46.63",
         "2.561",
         "211.3196429",
         "8.106",
         "Not a holiday",
         "26",
         "2",
         "2010"
        ],
        [
         "4",
         "1",
         "2010-03-05",
         "1554806.68",
         "0",
         "46.5",
         "2.625",
         "211.3501429",
         "8.106",
         "Not a holiday",
         "5",
         "3",
         "2010"
        ]
       ],
       "shape": {
        "columns": 12,
        "rows": 5
       }
      },
      "text/html": [
       "<div>\n",
       "<style scoped>\n",
       "    .dataframe tbody tr th:only-of-type {\n",
       "        vertical-align: middle;\n",
       "    }\n",
       "\n",
       "    .dataframe tbody tr th {\n",
       "        vertical-align: top;\n",
       "    }\n",
       "\n",
       "    .dataframe thead th {\n",
       "        text-align: right;\n",
       "    }\n",
       "</style>\n",
       "<table border=\"1\" class=\"dataframe\">\n",
       "  <thead>\n",
       "    <tr style=\"text-align: right;\">\n",
       "      <th></th>\n",
       "      <th>Store</th>\n",
       "      <th>Date</th>\n",
       "      <th>Weekly_Sales</th>\n",
       "      <th>Holiday_Flag</th>\n",
       "      <th>Temperature</th>\n",
       "      <th>Fuel_Price</th>\n",
       "      <th>CPI</th>\n",
       "      <th>Unemployment</th>\n",
       "      <th>Holiday_Event</th>\n",
       "      <th>day</th>\n",
       "      <th>month</th>\n",
       "      <th>year</th>\n",
       "    </tr>\n",
       "  </thead>\n",
       "  <tbody>\n",
       "    <tr>\n",
       "      <th>0</th>\n",
       "      <td>1</td>\n",
       "      <td>2010-02-05</td>\n",
       "      <td>1643690.90</td>\n",
       "      <td>0</td>\n",
       "      <td>42.31</td>\n",
       "      <td>2.572</td>\n",
       "      <td>211.096358</td>\n",
       "      <td>8.106</td>\n",
       "      <td>Not a holiday</td>\n",
       "      <td>5</td>\n",
       "      <td>2</td>\n",
       "      <td>2010</td>\n",
       "    </tr>\n",
       "    <tr>\n",
       "      <th>1</th>\n",
       "      <td>1</td>\n",
       "      <td>2010-02-12</td>\n",
       "      <td>1641957.44</td>\n",
       "      <td>1</td>\n",
       "      <td>38.51</td>\n",
       "      <td>2.548</td>\n",
       "      <td>211.242170</td>\n",
       "      <td>8.106</td>\n",
       "      <td>Super Bowl Week</td>\n",
       "      <td>12</td>\n",
       "      <td>2</td>\n",
       "      <td>2010</td>\n",
       "    </tr>\n",
       "    <tr>\n",
       "      <th>2</th>\n",
       "      <td>1</td>\n",
       "      <td>2010-02-19</td>\n",
       "      <td>1611968.17</td>\n",
       "      <td>0</td>\n",
       "      <td>39.93</td>\n",
       "      <td>2.514</td>\n",
       "      <td>211.289143</td>\n",
       "      <td>8.106</td>\n",
       "      <td>Not a holiday</td>\n",
       "      <td>19</td>\n",
       "      <td>2</td>\n",
       "      <td>2010</td>\n",
       "    </tr>\n",
       "    <tr>\n",
       "      <th>3</th>\n",
       "      <td>1</td>\n",
       "      <td>2010-02-26</td>\n",
       "      <td>1409727.59</td>\n",
       "      <td>0</td>\n",
       "      <td>46.63</td>\n",
       "      <td>2.561</td>\n",
       "      <td>211.319643</td>\n",
       "      <td>8.106</td>\n",
       "      <td>Not a holiday</td>\n",
       "      <td>26</td>\n",
       "      <td>2</td>\n",
       "      <td>2010</td>\n",
       "    </tr>\n",
       "    <tr>\n",
       "      <th>4</th>\n",
       "      <td>1</td>\n",
       "      <td>2010-03-05</td>\n",
       "      <td>1554806.68</td>\n",
       "      <td>0</td>\n",
       "      <td>46.50</td>\n",
       "      <td>2.625</td>\n",
       "      <td>211.350143</td>\n",
       "      <td>8.106</td>\n",
       "      <td>Not a holiday</td>\n",
       "      <td>5</td>\n",
       "      <td>3</td>\n",
       "      <td>2010</td>\n",
       "    </tr>\n",
       "  </tbody>\n",
       "</table>\n",
       "</div>"
      ],
      "text/plain": [
       "   Store        Date  Weekly_Sales  Holiday_Flag  Temperature  Fuel_Price  \\\n",
       "0      1  2010-02-05    1643690.90             0        42.31       2.572   \n",
       "1      1  2010-02-12    1641957.44             1        38.51       2.548   \n",
       "2      1  2010-02-19    1611968.17             0        39.93       2.514   \n",
       "3      1  2010-02-26    1409727.59             0        46.63       2.561   \n",
       "4      1  2010-03-05    1554806.68             0        46.50       2.625   \n",
       "\n",
       "          CPI  Unemployment    Holiday_Event  day  month  year  \n",
       "0  211.096358         8.106    Not a holiday    5      2  2010  \n",
       "1  211.242170         8.106  Super Bowl Week   12      2  2010  \n",
       "2  211.289143         8.106    Not a holiday   19      2  2010  \n",
       "3  211.319643         8.106    Not a holiday   26      2  2010  \n",
       "4  211.350143         8.106    Not a holiday    5      3  2010  "
      ]
     },
     "execution_count": 4,
     "metadata": {},
     "output_type": "execute_result"
    }
   ],
   "source": [
    "df = pd.read_csv('../data/01_data_cleaned.csv')\n",
    "df.head()"
   ]
  },
  {
   "cell_type": "code",
   "execution_count": 5,
   "id": "184b2e6a",
   "metadata": {},
   "outputs": [
    {
     "data": {
      "text/plain": [
       "Index(['Store', 'Date', 'Weekly_Sales', 'Holiday_Flag', 'Temperature',\n",
       "       'Fuel_Price', 'CPI', 'Unemployment', 'Holiday_Event', 'day', 'month',\n",
       "       'year'],\n",
       "      dtype='object')"
      ]
     },
     "execution_count": 5,
     "metadata": {},
     "output_type": "execute_result"
    }
   ],
   "source": [
    "df.columns"
   ]
  },
  {
   "cell_type": "code",
   "execution_count": 13,
   "id": "5514ef04",
   "metadata": {},
   "outputs": [
    {
     "data": {
      "application/vnd.microsoft.datawrangler.viewer.v0+json": {
       "columns": [
        {
         "name": "index",
         "rawType": "int64",
         "type": "integer"
        },
        {
         "name": "Date",
         "rawType": "datetime64[ns]",
         "type": "datetime"
        },
        {
         "name": "week_of_month",
         "rawType": "int64",
         "type": "integer"
        },
        {
         "name": "week_number",
         "rawType": "UInt32",
         "type": "integer"
        }
       ],
       "ref": "99eaeec1-012a-44c5-a341-96c033683f38",
       "rows": [
        [
         "0",
         "2010-02-05 00:00:00",
         "1",
         "5"
        ],
        [
         "1",
         "2010-02-12 00:00:00",
         "2",
         "6"
        ],
        [
         "2",
         "2010-02-19 00:00:00",
         "3",
         "7"
        ],
        [
         "3",
         "2010-02-26 00:00:00",
         "4",
         "8"
        ],
        [
         "4",
         "2010-03-05 00:00:00",
         "1",
         "9"
        ]
       ],
       "shape": {
        "columns": 3,
        "rows": 5
       }
      },
      "text/html": [
       "<div>\n",
       "<style scoped>\n",
       "    .dataframe tbody tr th:only-of-type {\n",
       "        vertical-align: middle;\n",
       "    }\n",
       "\n",
       "    .dataframe tbody tr th {\n",
       "        vertical-align: top;\n",
       "    }\n",
       "\n",
       "    .dataframe thead th {\n",
       "        text-align: right;\n",
       "    }\n",
       "</style>\n",
       "<table border=\"1\" class=\"dataframe\">\n",
       "  <thead>\n",
       "    <tr style=\"text-align: right;\">\n",
       "      <th></th>\n",
       "      <th>Date</th>\n",
       "      <th>week_of_month</th>\n",
       "      <th>week_number</th>\n",
       "    </tr>\n",
       "  </thead>\n",
       "  <tbody>\n",
       "    <tr>\n",
       "      <th>0</th>\n",
       "      <td>2010-02-05</td>\n",
       "      <td>1</td>\n",
       "      <td>5</td>\n",
       "    </tr>\n",
       "    <tr>\n",
       "      <th>1</th>\n",
       "      <td>2010-02-12</td>\n",
       "      <td>2</td>\n",
       "      <td>6</td>\n",
       "    </tr>\n",
       "    <tr>\n",
       "      <th>2</th>\n",
       "      <td>2010-02-19</td>\n",
       "      <td>3</td>\n",
       "      <td>7</td>\n",
       "    </tr>\n",
       "    <tr>\n",
       "      <th>3</th>\n",
       "      <td>2010-02-26</td>\n",
       "      <td>4</td>\n",
       "      <td>8</td>\n",
       "    </tr>\n",
       "    <tr>\n",
       "      <th>4</th>\n",
       "      <td>2010-03-05</td>\n",
       "      <td>1</td>\n",
       "      <td>9</td>\n",
       "    </tr>\n",
       "  </tbody>\n",
       "</table>\n",
       "</div>"
      ],
      "text/plain": [
       "        Date  week_of_month  week_number\n",
       "0 2010-02-05              1            5\n",
       "1 2010-02-12              2            6\n",
       "2 2010-02-19              3            7\n",
       "3 2010-02-26              4            8\n",
       "4 2010-03-05              1            9"
      ]
     },
     "execution_count": 13,
     "metadata": {},
     "output_type": "execute_result"
    }
   ],
   "source": [
    "df['Date'] = pd.to_datetime(df['Date'])\n",
    "\n",
    "# Week of month calculation\n",
    "df['week_of_month'] = df['Date'].apply(lambda d: min((d.day - 1) // 7 + 1, 4))\n",
    "df['week_number'] = df['Date'].dt.isocalendar().week\n",
    "\n",
    "# Example: see the first few\n",
    "df[['Date', 'week_of_month', 'week_number']].head()"
   ]
  },
  {
   "cell_type": "markdown",
   "id": "dd16ce3c",
   "metadata": {},
   "source": [
    "# Defining KPIs:"
   ]
  },
  {
   "cell_type": "markdown",
   "id": "d0cce990",
   "metadata": {},
   "source": [
    "## 1. Total Weekly Sales:"
   ]
  },
  {
   "cell_type": "code",
   "execution_count": 19,
   "id": "c3184eac",
   "metadata": {},
   "outputs": [],
   "source": [
    "sales_per_week = df.groupby(['week_number'])['Weekly_Sales'].mean().round(3).sort_values(ascending=False).reset_index()"
   ]
  },
  {
   "cell_type": "code",
   "execution_count": 34,
   "id": "cd34e305",
   "metadata": {},
   "outputs": [
    {
     "data": {
      "image/png": "[encoded data removed]",
      "text/plain": [
       "<Figure size 1200x600 with 1 Axes>"
      ]
     },
     "metadata": {},
     "output_type": "display_data"
    }
   ],
   "source": [
    "plt.figure(figsize=(12, 6))\n",
    "sns.barplot(x='week_number', y='Weekly_Sales', data=sales_per_week, order=sales_per_week['week_number'])\n",
    "plt.title('Average Weekly Sales by Week Number')\n",
    "plt.xlabel('Week Number')\n",
    "plt.ylabel('Average Weekly Sales')\n",
    "plt.xticks(rotation=-45)\n",
    "plt.axhline(y=sales_per_week['Weekly_Sales'].mean(), color='r', linestyle='--', label='Average Sales')\n",
    "plt.legend()\n",
    "plt.show()"
   ]
  },
  {
   "cell_type": "markdown",
   "id": "0d9b9659",
   "metadata": {},
   "source": [
    "This trend is as expected from the previous EDA graphs, the sales at the end of the year is very high compared to the rest of the days of the year. This is because 51th week is christmas week, where people buys a lot.\n",
    "\n",
    "`There's a higher chance of increasing sales at the year-end.`"
   ]
  },
  {
   "cell_type": "markdown",
   "id": "19e22f8e",
   "metadata": {},
   "source": [
    "### Total sales in Nov and Dec per week:"
   ]
  },
  {
   "cell_type": "code",
   "execution_count": 91,
   "id": "f90f72bf",
   "metadata": {},
   "outputs": [
    {
     "data": {
      "application/vnd.microsoft.datawrangler.viewer.v0+json": {
       "columns": [
        {
         "name": "index",
         "rawType": "int64",
         "type": "integer"
        },
        {
         "name": "year",
         "rawType": "int64",
         "type": "integer"
        },
        {
         "name": "month",
         "rawType": "int64",
         "type": "integer"
        },
        {
         "name": "week_number",
         "rawType": "UInt32",
         "type": "integer"
        },
        {
         "name": "Weekly_Sales",
         "rawType": "float64",
         "type": "float"
        }
       ],
       "ref": "3b06547a-b76e-4c24-bb0b-11ac688b5a9d",
       "rows": [
        [
         "0",
         "2010",
         "11",
         "44",
         "45781982.0"
        ],
        [
         "1",
         "2010",
         "11",
         "45",
         "46124801.0"
        ],
        [
         "2",
         "2010",
         "11",
         "46",
         "45125584.0"
        ],
        [
         "3",
         "2010",
         "11",
         "47",
         "65821003.0"
        ],
        [
         "4",
         "2010",
         "12",
         "48",
         "49909028.0"
        ],
        [
         "5",
         "2010",
         "12",
         "49",
         "55666770.0"
        ],
        [
         "6",
         "2010",
         "12",
         "50",
         "61820800.0"
        ],
        [
         "7",
         "2010",
         "12",
         "51",
         "80931416.0"
        ],
        [
         "8",
         "2010",
         "12",
         "52",
         "40432519.0"
        ],
        [
         "9",
         "2011",
         "1",
         "1",
         "42775788.0"
        ],
        [
         "10",
         "2011",
         "1",
         "2",
         "40673678.0"
        ],
        [
         "11",
         "2011",
         "11",
         "44",
         "48655544.0"
        ],
        [
         "12",
         "2011",
         "11",
         "45",
         "48474225.0"
        ],
        [
         "13",
         "2011",
         "11",
         "46",
         "46438981.0"
        ],
        [
         "14",
         "2011",
         "11",
         "47",
         "66593605.0"
        ],
        [
         "15",
         "2011",
         "12",
         "48",
         "49390556.0"
        ],
        [
         "16",
         "2011",
         "12",
         "49",
         "55561148.0"
        ],
        [
         "17",
         "2011",
         "12",
         "50",
         "60085696.0"
        ],
        [
         "18",
         "2011",
         "12",
         "51",
         "76998241.0"
        ],
        [
         "19",
         "2011",
         "12",
         "52",
         "46042461.0"
        ],
        [
         "20",
         "2012",
         "1",
         "1",
         "44955422.0"
        ],
        [
         "21",
         "2012",
         "1",
         "2",
         "42023078.0"
        ]
       ],
       "shape": {
        "columns": 4,
        "rows": 22
       }
      },
      "text/html": [
       "<div>\n",
       "<style scoped>\n",
       "    .dataframe tbody tr th:only-of-type {\n",
       "        vertical-align: middle;\n",
       "    }\n",
       "\n",
       "    .dataframe tbody tr th {\n",
       "        vertical-align: top;\n",
       "    }\n",
       "\n",
       "    .dataframe thead th {\n",
       "        text-align: right;\n",
       "    }\n",
       "</style>\n",
       "<table border=\"1\" class=\"dataframe\">\n",
       "  <thead>\n",
       "    <tr style=\"text-align: right;\">\n",
       "      <th></th>\n",
       "      <th>year</th>\n",
       "      <th>month</th>\n",
       "      <th>week_number</th>\n",
       "      <th>Weekly_Sales</th>\n",
       "    </tr>\n",
       "  </thead>\n",
       "  <tbody>\n",
       "    <tr>\n",
       "      <th>0</th>\n",
       "      <td>2010</td>\n",
       "      <td>11</td>\n",
       "      <td>44</td>\n",
       "      <td>45781982.0</td>\n",
       "    </tr>\n",
       "    <tr>\n",
       "      <th>1</th>\n",
       "      <td>2010</td>\n",
       "      <td>11</td>\n",
       "      <td>45</td>\n",
       "      <td>46124801.0</td>\n",
       "    </tr>\n",
       "    <tr>\n",
       "      <th>2</th>\n",
       "      <td>2010</td>\n",
       "      <td>11</td>\n",
       "      <td>46</td>\n",
       "      <td>45125584.0</td>\n",
       "    </tr>\n",
       "    <tr>\n",
       "      <th>3</th>\n",
       "      <td>2010</td>\n",
       "      <td>11</td>\n",
       "      <td>47</td>\n",
       "      <td>65821003.0</td>\n",
       "    </tr>\n",
       "    <tr>\n",
       "      <th>4</th>\n",
       "      <td>2010</td>\n",
       "      <td>12</td>\n",
       "      <td>48</td>\n",
       "      <td>49909028.0</td>\n",
       "    </tr>\n",
       "    <tr>\n",
       "      <th>5</th>\n",
       "      <td>2010</td>\n",
       "      <td>12</td>\n",
       "      <td>49</td>\n",
       "      <td>55666770.0</td>\n",
       "    </tr>\n",
       "    <tr>\n",
       "      <th>6</th>\n",
       "      <td>2010</td>\n",
       "      <td>12</td>\n",
       "      <td>50</td>\n",
       "      <td>61820800.0</td>\n",
       "    </tr>\n",
       "    <tr>\n",
       "      <th>7</th>\n",
       "      <td>2010</td>\n",
       "      <td>12</td>\n",
       "      <td>51</td>\n",
       "      <td>80931416.0</td>\n",
       "    </tr>\n",
       "    <tr>\n",
       "      <th>8</th>\n",
       "      <td>2010</td>\n",
       "      <td>12</td>\n",
       "      <td>52</td>\n",
       "      <td>40432519.0</td>\n",
       "    </tr>\n",
       "    <tr>\n",
       "      <th>9</th>\n",
       "      <td>2011</td>\n",
       "      <td>1</td>\n",
       "      <td>1</td>\n",
       "      <td>42775788.0</td>\n",
       "    </tr>\n",
       "    <tr>\n",
       "      <th>10</th>\n",
       "      <td>2011</td>\n",
       "      <td>1</td>\n",
       "      <td>2</td>\n",
       "      <td>40673678.0</td>\n",
       "    </tr>\n",
       "    <tr>\n",
       "      <th>11</th>\n",
       "      <td>2011</td>\n",
       "      <td>11</td>\n",
       "      <td>44</td>\n",
       "      <td>48655544.0</td>\n",
       "    </tr>\n",
       "    <tr>\n",
       "      <th>12</th>\n",
       "      <td>2011</td>\n",
       "      <td>11</td>\n",
       "      <td>45</td>\n",
       "      <td>48474225.0</td>\n",
       "    </tr>\n",
       "    <tr>\n",
       "      <th>13</th>\n",
       "      <td>2011</td>\n",
       "      <td>11</td>\n",
       "      <td>46</td>\n",
       "      <td>46438981.0</td>\n",
       "    </tr>\n",
       "    <tr>\n",
       "      <th>14</th>\n",
       "      <td>2011</td>\n",
       "      <td>11</td>\n",
       "      <td>47</td>\n",
       "      <td>66593605.0</td>\n",
       "    </tr>\n",
       "    <tr>\n",
       "      <th>15</th>\n",
       "      <td>2011</td>\n",
       "      <td>12</td>\n",
       "      <td>48</td>\n",
       "      <td>49390556.0</td>\n",
       "    </tr>\n",
       "    <tr>\n",
       "      <th>16</th>\n",
       "      <td>2011</td>\n",
       "      <td>12</td>\n",
       "      <td>49</td>\n",
       "      <td>55561148.0</td>\n",
       "    </tr>\n",
       "    <tr>\n",
       "      <th>17</th>\n",
       "      <td>2011</td>\n",
       "      <td>12</td>\n",
       "      <td>50</td>\n",
       "      <td>60085696.0</td>\n",
       "    </tr>\n",
       "    <tr>\n",
       "      <th>18</th>\n",
       "      <td>2011</td>\n",
       "      <td>12</td>\n",
       "      <td>51</td>\n",
       "      <td>76998241.0</td>\n",
       "    </tr>\n",
       "    <tr>\n",
       "      <th>19</th>\n",
       "      <td>2011</td>\n",
       "      <td>12</td>\n",
       "      <td>52</td>\n",
       "      <td>46042461.0</td>\n",
       "    </tr>\n",
       "    <tr>\n",
       "      <th>20</th>\n",
       "      <td>2012</td>\n",
       "      <td>1</td>\n",
       "      <td>1</td>\n",
       "      <td>44955422.0</td>\n",
       "    </tr>\n",
       "    <tr>\n",
       "      <th>21</th>\n",
       "      <td>2012</td>\n",
       "      <td>1</td>\n",
       "      <td>2</td>\n",
       "      <td>42023078.0</td>\n",
       "    </tr>\n",
       "  </tbody>\n",
       "</table>\n",
       "</div>"
      ],
      "text/plain": [
       "    year  month  week_number  Weekly_Sales\n",
       "0   2010     11           44    45781982.0\n",
       "1   2010     11           45    46124801.0\n",
       "2   2010     11           46    45125584.0\n",
       "3   2010     11           47    65821003.0\n",
       "4   2010     12           48    49909028.0\n",
       "5   2010     12           49    55666770.0\n",
       "6   2010     12           50    61820800.0\n",
       "7   2010     12           51    80931416.0\n",
       "8   2010     12           52    40432519.0\n",
       "9   2011      1            1    42775788.0\n",
       "10  2011      1            2    40673678.0\n",
       "11  2011     11           44    48655544.0\n",
       "12  2011     11           45    48474225.0\n",
       "13  2011     11           46    46438981.0\n",
       "14  2011     11           47    66593605.0\n",
       "15  2011     12           48    49390556.0\n",
       "16  2011     12           49    55561148.0\n",
       "17  2011     12           50    60085696.0\n",
       "18  2011     12           51    76998241.0\n",
       "19  2011     12           52    46042461.0\n",
       "20  2012      1            1    44955422.0\n",
       "21  2012      1            2    42023078.0"
      ]
     },
     "execution_count": 91,
     "metadata": {},
     "output_type": "execute_result"
    }
   ],
   "source": [
    "later_week_sales = df[df['week_number'].isin([1, 2, 44, 45, 46, 47, 48, 49, 50, 51, 52])][['year', 'month', 'week_number', 'Weekly_Sales']].groupby(['year', 'month', 'week_number']).sum().reset_index().round()\n",
    "later_week_sales"
   ]
  },
  {
   "cell_type": "code",
   "execution_count": 92,
   "id": "c507e13c",
   "metadata": {},
   "outputs": [
    {
     "data": {
      "image/png": "[encoded data removed]",
      "text/plain": [
       "<Figure size 1200x600 with 1 Axes>"
      ]
     },
     "metadata": {},
     "output_type": "display_data"
    }
   ],
   "source": [
    "plt.figure(figsize=(12, 6))\n",
    "sns.barplot(x='week_number', y='Weekly_Sales', data=later_week_sales, order=later_week_sales['week_number'])\n",
    "plt.title('Average Weekly Sales by Week Number')\n",
    "plt.xlabel('Week Number')\n",
    "plt.ylabel('Average Weekly Sales')\n",
    "plt.show()"
   ]
  },
  {
   "cell_type": "markdown",
   "id": "f1e7fe5b",
   "metadata": {},
   "source": [
    "In November, major sales are in the last week, around Thanksgiving. \n",
    "\n",
    "Dec has overall more sales compared to Nov or any other month, and most of those sales come from the second last week, most likely christmas week. Plus, even in the 5th week (29-31) there's a lot of sales, most likely for new year shopping. But then the sales come to normal in Jan.\n",
    "\n",
    "`Therefore, the weeks where we can increase our sales are weeks 47, 49, 50, 51. (Also, week 52 which includes some days of Dec and some days of early Jan.)`"
   ]
  },
  {
   "cell_type": "code",
   "execution_count": null,
   "id": "a02f75aa",
   "metadata": {},
   "outputs": [],
   "source": []
  }
 ],
 "metadata": {
  "kernelspec": {
   "display_name": ".venv",
   "language": "python",
   "name": "python3"
  },
  "language_info": {
   "codemirror_mode": {
    "name": "ipython",
    "version": 3
   },
   "file_extension": ".py",
   "mimetype": "text/x-python",
   "name": "python",
   "nbconvert_exporter": "python",
   "pygments_lexer": "ipython3",
   "version": "3.12.7"
  }
 },
 "nbformat": 4,
 "nbformat_minor": 5
}
