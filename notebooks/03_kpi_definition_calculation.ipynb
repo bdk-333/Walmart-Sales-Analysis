{
 "cells": [
  {
   "cell_type": "code",
   "execution_count": 1,
   "id": "7f2a1b47",
   "metadata": {},
   "outputs": [],
   "source": [
    "import numpy as np\n",
    "import pandas as pd"
   ]
  },
  {
   "cell_type": "code",
   "execution_count": 2,
   "id": "d202b4f4",
   "metadata": {},
   "outputs": [
    {
     "data": {
      "application/vnd.microsoft.datawrangler.viewer.v0+json": {
       "columns": [
        {
         "name": "index",
         "rawType": "int64",
         "type": "integer"
        },
        {
         "name": "Store",
         "rawType": "int64",
         "type": "integer"
        },
        {
         "name": "Date",
         "rawType": "object",
         "type": "string"
        },
        {
         "name": "Weekly_Sales",
         "rawType": "float64",
         "type": "float"
        },
        {
         "name": "Holiday_Flag",
         "rawType": "int64",
         "type": "integer"
        },
        {
         "name": "Temperature",
         "rawType": "float64",
         "type": "float"
        },
        {
         "name": "Fuel_Price",
         "rawType": "float64",
         "type": "float"
        },
        {
         "name": "CPI",
         "rawType": "float64",
         "type": "float"
        },
        {
         "name": "Unemployment",
         "rawType": "float64",
         "type": "float"
        },
        {
         "name": "Holiday_Event",
         "rawType": "object",
         "type": "string"
        },
        {
         "name": "day",
         "rawType": "int64",
         "type": "integer"
        },
        {
         "name": "month",
         "rawType": "int64",
         "type": "integer"
        },
        {
         "name": "year",
         "rawType": "int64",
         "type": "integer"
        }
       ],
       "ref": "aac3add0-e531-4f7d-8122-b79527272236",
       "rows": [
        [
         "0",
         "1",
         "2010-02-05",
         "1643690.9",
         "0",
         "42.31",
         "2.572",
         "211.0963582",
         "8.106",
         "Not a holiday",
         "5",
         "2",
         "2010"
        ],
        [
         "1",
         "1",
         "2010-02-12",
         "1641957.44",
         "1",
         "38.51",
         "2.548",
         "211.2421698",
         "8.106",
         "Super Bowl Week",
         "12",
         "2",
         "2010"
        ],
        [
         "2",
         "1",
         "2010-02-19",
         "1611968.17",
         "0",
         "39.93",
         "2.514",
         "211.2891429",
         "8.106",
         "Not a holiday",
         "19",
         "2",
         "2010"
        ],
        [
         "3",
         "1",
         "2010-02-26",
         "1409727.59",
         "0",
         "46.63",
         "2.561",
         "211.3196429",
         "8.106",
         "Not a holiday",
         "26",
         "2",
         "2010"
        ],
        [
         "4",
         "1",
         "2010-03-05",
         "1554806.68",
         "0",
         "46.5",
         "2.625",
         "211.3501429",
         "8.106",
         "Not a holiday",
         "5",
         "3",
         "2010"
        ]
       ],
       "shape": {
        "columns": 12,
        "rows": 5
       }
      },
      "text/html": [
       "<div>\n",
       "<style scoped>\n",
       "    .dataframe tbody tr th:only-of-type {\n",
       "        vertical-align: middle;\n",
       "    }\n",
       "\n",
       "    .dataframe tbody tr th {\n",
       "        vertical-align: top;\n",
       "    }\n",
       "\n",
       "    .dataframe thead th {\n",
       "        text-align: right;\n",
       "    }\n",
       "</style>\n",
       "<table border=\"1\" class=\"dataframe\">\n",
       "  <thead>\n",
       "    <tr style=\"text-align: right;\">\n",
       "      <th></th>\n",
       "      <th>Store</th>\n",
       "      <th>Date</th>\n",
       "      <th>Weekly_Sales</th>\n",
       "      <th>Holiday_Flag</th>\n",
       "      <th>Temperature</th>\n",
       "      <th>Fuel_Price</th>\n",
       "      <th>CPI</th>\n",
       "      <th>Unemployment</th>\n",
       "      <th>Holiday_Event</th>\n",
       "      <th>day</th>\n",
       "      <th>month</th>\n",
       "      <th>year</th>\n",
       "    </tr>\n",
       "  </thead>\n",
       "  <tbody>\n",
       "    <tr>\n",
       "      <th>0</th>\n",
       "      <td>1</td>\n",
       "      <td>2010-02-05</td>\n",
       "      <td>1643690.90</td>\n",
       "      <td>0</td>\n",
       "      <td>42.31</td>\n",
       "      <td>2.572</td>\n",
       "      <td>211.096358</td>\n",
       "      <td>8.106</td>\n",
       "      <td>Not a holiday</td>\n",
       "      <td>5</td>\n",
       "      <td>2</td>\n",
       "      <td>2010</td>\n",
       "    </tr>\n",
       "    <tr>\n",
       "      <th>1</th>\n",
       "      <td>1</td>\n",
       "      <td>2010-02-12</td>\n",
       "      <td>1641957.44</td>\n",
       "      <td>1</td>\n",
       "      <td>38.51</td>\n",
       "      <td>2.548</td>\n",
       "      <td>211.242170</td>\n",
       "      <td>8.106</td>\n",
       "      <td>Super Bowl Week</td>\n",
       "      <td>12</td>\n",
       "      <td>2</td>\n",
       "      <td>2010</td>\n",
       "    </tr>\n",
       "    <tr>\n",
       "      <th>2</th>\n",
       "      <td>1</td>\n",
       "      <td>2010-02-19</td>\n",
       "      <td>1611968.17</td>\n",
       "      <td>0</td>\n",
       "      <td>39.93</td>\n",
       "      <td>2.514</td>\n",
       "      <td>211.289143</td>\n",
       "      <td>8.106</td>\n",
       "      <td>Not a holiday</td>\n",
       "      <td>19</td>\n",
       "      <td>2</td>\n",
       "      <td>2010</td>\n",
       "    </tr>\n",
       "    <tr>\n",
       "      <th>3</th>\n",
       "      <td>1</td>\n",
       "      <td>2010-02-26</td>\n",
       "      <td>1409727.59</td>\n",
       "      <td>0</td>\n",
       "      <td>46.63</td>\n",
       "      <td>2.561</td>\n",
       "      <td>211.319643</td>\n",
       "      <td>8.106</td>\n",
       "      <td>Not a holiday</td>\n",
       "      <td>26</td>\n",
       "      <td>2</td>\n",
       "      <td>2010</td>\n",
       "    </tr>\n",
       "    <tr>\n",
       "      <th>4</th>\n",
       "      <td>1</td>\n",
       "      <td>2010-03-05</td>\n",
       "      <td>1554806.68</td>\n",
       "      <td>0</td>\n",
       "      <td>46.50</td>\n",
       "      <td>2.625</td>\n",
       "      <td>211.350143</td>\n",
       "      <td>8.106</td>\n",
       "      <td>Not a holiday</td>\n",
       "      <td>5</td>\n",
       "      <td>3</td>\n",
       "      <td>2010</td>\n",
       "    </tr>\n",
       "  </tbody>\n",
       "</table>\n",
       "</div>"
      ],
      "text/plain": [
       "   Store        Date  Weekly_Sales  Holiday_Flag  Temperature  Fuel_Price  \\\n",
       "0      1  2010-02-05    1643690.90             0        42.31       2.572   \n",
       "1      1  2010-02-12    1641957.44             1        38.51       2.548   \n",
       "2      1  2010-02-19    1611968.17             0        39.93       2.514   \n",
       "3      1  2010-02-26    1409727.59             0        46.63       2.561   \n",
       "4      1  2010-03-05    1554806.68             0        46.50       2.625   \n",
       "\n",
       "          CPI  Unemployment    Holiday_Event  day  month  year  \n",
       "0  211.096358         8.106    Not a holiday    5      2  2010  \n",
       "1  211.242170         8.106  Super Bowl Week   12      2  2010  \n",
       "2  211.289143         8.106    Not a holiday   19      2  2010  \n",
       "3  211.319643         8.106    Not a holiday   26      2  2010  \n",
       "4  211.350143         8.106    Not a holiday    5      3  2010  "
      ]
     },
     "execution_count": 2,
     "metadata": {},
     "output_type": "execute_result"
    }
   ],
   "source": [
    "df = pd.read_csv('../data/01_data_cleaned.csv')\n",
    "df.head()"
   ]
  },
  {
   "cell_type": "code",
   "execution_count": 3,
   "id": "184b2e6a",
   "metadata": {},
   "outputs": [
    {
     "data": {
      "text/plain": [
       "Index(['Store', 'Date', 'Weekly_Sales', 'Holiday_Flag', 'Temperature',\n",
       "       'Fuel_Price', 'CPI', 'Unemployment', 'Holiday_Event', 'day', 'month',\n",
       "       'year'],\n",
       "      dtype='object')"
      ]
     },
     "execution_count": 3,
     "metadata": {},
     "output_type": "execute_result"
    }
   ],
   "source": [
    "df.columns"
   ]
  },
  {
   "cell_type": "code",
   "execution_count": null,
   "id": "cd34e305",
   "metadata": {},
   "outputs": [],
   "source": []
  }
 ],
 "metadata": {
  "kernelspec": {
   "display_name": ".venv",
   "language": "python",
   "name": "python3"
  },
  "language_info": {
   "codemirror_mode": {
    "name": "ipython",
    "version": 3
   },
   "file_extension": ".py",
   "mimetype": "text/x-python",
   "name": "python",
   "nbconvert_exporter": "python",
   "pygments_lexer": "ipython3",
   "version": "3.12.7"
  }
 },
 "nbformat": 4,
 "nbformat_minor": 5
}
