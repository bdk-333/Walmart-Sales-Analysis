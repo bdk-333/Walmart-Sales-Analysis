{
 "cells": [
  {
   "cell_type": "markdown",
   "id": "c069ed20",
   "metadata": {},
   "source": [
    "`The the goal of this file is to prepare dataset for analysis by performing initial exploration, cleaning, and preprocessing.`"
   ]
  },
  {
   "cell_type": "markdown",
   "id": "5a3fcfad",
   "metadata": {},
   "source": [
    "# 1. Loading dataset:"
   ]
  },
  {
   "cell_type": "code",
   "execution_count": 5,
   "id": "b6f5bca0",
   "metadata": {},
   "outputs": [],
   "source": [
    "import numpy as np\n",
    "import pandas as pd\n",
    "import datetime as dt"
   ]
  },
  {
   "cell_type": "code",
   "execution_count": 3,
   "id": "6a099527",
   "metadata": {},
   "outputs": [
    {
     "data": {
      "application/vnd.microsoft.datawrangler.viewer.v0+json": {
       "columns": [
        {
         "name": "index",
         "rawType": "int64",
         "type": "integer"
        },
        {
         "name": "Store",
         "rawType": "int64",
         "type": "integer"
        },
        {
         "name": "Date",
         "rawType": "object",
         "type": "string"
        },
        {
         "name": "Weekly_Sales",
         "rawType": "float64",
         "type": "float"
        },
        {
         "name": "Holiday_Flag",
         "rawType": "int64",
         "type": "integer"
        },
        {
         "name": "Temperature",
         "rawType": "float64",
         "type": "float"
        },
        {
         "name": "Fuel_Price",
         "rawType": "float64",
         "type": "float"
        },
        {
         "name": "CPI",
         "rawType": "float64",
         "type": "float"
        },
        {
         "name": "Unemployment",
         "rawType": "float64",
         "type": "float"
        }
       ],
       "ref": "fc3e6010-3bc1-41d2-8e5b-a82c4b78a355",
       "rows": [
        [
         "0",
         "1",
         "05-02-2010",
         "1643690.9",
         "0",
         "42.31",
         "2.572",
         "211.0963582",
         "8.106"
        ],
        [
         "1",
         "1",
         "12-02-2010",
         "1641957.44",
         "1",
         "38.51",
         "2.548",
         "211.2421698",
         "8.106"
        ],
        [
         "2",
         "1",
         "19-02-2010",
         "1611968.17",
         "0",
         "39.93",
         "2.514",
         "211.2891429",
         "8.106"
        ],
        [
         "3",
         "1",
         "26-02-2010",
         "1409727.59",
         "0",
         "46.63",
         "2.561",
         "211.3196429",
         "8.106"
        ],
        [
         "4",
         "1",
         "05-03-2010",
         "1554806.68",
         "0",
         "46.5",
         "2.625",
         "211.3501429",
         "8.106"
        ]
       ],
       "shape": {
        "columns": 8,
        "rows": 5
       }
      },
      "text/html": [
       "<div>\n",
       "<style scoped>\n",
       "    .dataframe tbody tr th:only-of-type {\n",
       "        vertical-align: middle;\n",
       "    }\n",
       "\n",
       "    .dataframe tbody tr th {\n",
       "        vertical-align: top;\n",
       "    }\n",
       "\n",
       "    .dataframe thead th {\n",
       "        text-align: right;\n",
       "    }\n",
       "</style>\n",
       "<table border=\"1\" class=\"dataframe\">\n",
       "  <thead>\n",
       "    <tr style=\"text-align: right;\">\n",
       "      <th></th>\n",
       "      <th>Store</th>\n",
       "      <th>Date</th>\n",
       "      <th>Weekly_Sales</th>\n",
       "      <th>Holiday_Flag</th>\n",
       "      <th>Temperature</th>\n",
       "      <th>Fuel_Price</th>\n",
       "      <th>CPI</th>\n",
       "      <th>Unemployment</th>\n",
       "    </tr>\n",
       "  </thead>\n",
       "  <tbody>\n",
       "    <tr>\n",
       "      <th>0</th>\n",
       "      <td>1</td>\n",
       "      <td>05-02-2010</td>\n",
       "      <td>1643690.90</td>\n",
       "      <td>0</td>\n",
       "      <td>42.31</td>\n",
       "      <td>2.572</td>\n",
       "      <td>211.096358</td>\n",
       "      <td>8.106</td>\n",
       "    </tr>\n",
       "    <tr>\n",
       "      <th>1</th>\n",
       "      <td>1</td>\n",
       "      <td>12-02-2010</td>\n",
       "      <td>1641957.44</td>\n",
       "      <td>1</td>\n",
       "      <td>38.51</td>\n",
       "      <td>2.548</td>\n",
       "      <td>211.242170</td>\n",
       "      <td>8.106</td>\n",
       "    </tr>\n",
       "    <tr>\n",
       "      <th>2</th>\n",
       "      <td>1</td>\n",
       "      <td>19-02-2010</td>\n",
       "      <td>1611968.17</td>\n",
       "      <td>0</td>\n",
       "      <td>39.93</td>\n",
       "      <td>2.514</td>\n",
       "      <td>211.289143</td>\n",
       "      <td>8.106</td>\n",
       "    </tr>\n",
       "    <tr>\n",
       "      <th>3</th>\n",
       "      <td>1</td>\n",
       "      <td>26-02-2010</td>\n",
       "      <td>1409727.59</td>\n",
       "      <td>0</td>\n",
       "      <td>46.63</td>\n",
       "      <td>2.561</td>\n",
       "      <td>211.319643</td>\n",
       "      <td>8.106</td>\n",
       "    </tr>\n",
       "    <tr>\n",
       "      <th>4</th>\n",
       "      <td>1</td>\n",
       "      <td>05-03-2010</td>\n",
       "      <td>1554806.68</td>\n",
       "      <td>0</td>\n",
       "      <td>46.50</td>\n",
       "      <td>2.625</td>\n",
       "      <td>211.350143</td>\n",
       "      <td>8.106</td>\n",
       "    </tr>\n",
       "  </tbody>\n",
       "</table>\n",
       "</div>"
      ],
      "text/plain": [
       "   Store        Date  Weekly_Sales  Holiday_Flag  Temperature  Fuel_Price  \\\n",
       "0      1  05-02-2010    1643690.90             0        42.31       2.572   \n",
       "1      1  12-02-2010    1641957.44             1        38.51       2.548   \n",
       "2      1  19-02-2010    1611968.17             0        39.93       2.514   \n",
       "3      1  26-02-2010    1409727.59             0        46.63       2.561   \n",
       "4      1  05-03-2010    1554806.68             0        46.50       2.625   \n",
       "\n",
       "          CPI  Unemployment  \n",
       "0  211.096358         8.106  \n",
       "1  211.242170         8.106  \n",
       "2  211.289143         8.106  \n",
       "3  211.319643         8.106  \n",
       "4  211.350143         8.106  "
      ]
     },
     "execution_count": 3,
     "metadata": {},
     "output_type": "execute_result"
    }
   ],
   "source": [
    "df = pd.read_csv('../data/Walmart.csv')\n",
    "df.head()"
   ]
  },
  {
   "cell_type": "markdown",
   "id": "b4872645",
   "metadata": {},
   "source": [
    "# 2. Initial Exploration:"
   ]
  },
  {
   "cell_type": "code",
   "execution_count": 4,
   "id": "c3fed464",
   "metadata": {},
   "outputs": [
    {
     "name": "stdout",
     "output_type": "stream",
     "text": [
      "<class 'pandas.core.frame.DataFrame'>\n",
      "RangeIndex: 6435 entries, 0 to 6434\n",
      "Data columns (total 8 columns):\n",
      " #   Column        Non-Null Count  Dtype  \n",
      "---  ------        --------------  -----  \n",
      " 0   Store         6435 non-null   int64  \n",
      " 1   Date          6435 non-null   object \n",
      " 2   Weekly_Sales  6435 non-null   float64\n",
      " 3   Holiday_Flag  6435 non-null   int64  \n",
      " 4   Temperature   6435 non-null   float64\n",
      " 5   Fuel_Price    6435 non-null   float64\n",
      " 6   CPI           6435 non-null   float64\n",
      " 7   Unemployment  6435 non-null   float64\n",
      "dtypes: float64(5), int64(2), object(1)\n",
      "memory usage: 402.3+ KB\n"
     ]
    }
   ],
   "source": [
    "df.info()"
   ]
  },
  {
   "cell_type": "markdown",
   "id": "1488e74a",
   "metadata": {},
   "source": [
    "### Converting Date feature to datetype"
   ]
  },
  {
   "cell_type": "code",
   "execution_count": 7,
   "id": "9704ed39",
   "metadata": {},
   "outputs": [],
   "source": [
    "df['Date'] = pd.to_datetime(df['Date'], format=\"%d-%m-%Y\")"
   ]
  },
  {
   "cell_type": "code",
   "execution_count": 9,
   "id": "2881eedf",
   "metadata": {},
   "outputs": [
    {
     "data": {
      "application/vnd.microsoft.datawrangler.viewer.v0+json": {
       "columns": [
        {
         "name": "index",
         "rawType": "object",
         "type": "string"
        },
        {
         "name": "Store",
         "rawType": "float64",
         "type": "float"
        },
        {
         "name": "Date",
         "rawType": "object",
         "type": "unknown"
        },
        {
         "name": "Weekly_Sales",
         "rawType": "float64",
         "type": "float"
        },
        {
         "name": "Holiday_Flag",
         "rawType": "float64",
         "type": "float"
        },
        {
         "name": "Temperature",
         "rawType": "float64",
         "type": "float"
        },
        {
         "name": "Fuel_Price",
         "rawType": "float64",
         "type": "float"
        },
        {
         "name": "CPI",
         "rawType": "float64",
         "type": "float"
        },
        {
         "name": "Unemployment",
         "rawType": "float64",
         "type": "float"
        }
       ],
       "ref": "9e614872-9306-4ed3-a761-e11b67312029",
       "rows": [
        [
         "count",
         "6435.0",
         "6435",
         "6435.0",
         "6435.0",
         "6435.0",
         "6435.0",
         "6435.0",
         "6435.0"
        ],
        [
         "mean",
         "23.0",
         "2011-06-17 00:00:00",
         "1046964.8775617715",
         "0.06993006993006994",
         "60.66378243978244",
         "3.358606837606838",
         "171.57839384878014",
         "7.99915104895105"
        ],
        [
         "min",
         "1.0",
         "2010-02-05 00:00:00",
         "209986.25",
         "0.0",
         "-2.06",
         "2.472",
         "126.064",
         "3.879"
        ],
        [
         "25%",
         "12.0",
         "2010-10-08 00:00:00",
         "553350.105",
         "0.0",
         "47.46",
         "2.933",
         "131.735",
         "6.891"
        ],
        [
         "50%",
         "23.0",
         "2011-06-17 00:00:00",
         "960746.04",
         "0.0",
         "62.67",
         "3.445",
         "182.6165205",
         "7.874"
        ],
        [
         "75%",
         "34.0",
         "2012-02-24 00:00:00",
         "1420158.66",
         "0.0",
         "74.94",
         "3.735",
         "212.74329345",
         "8.622"
        ],
        [
         "max",
         "45.0",
         "2012-10-26 00:00:00",
         "3818686.45",
         "1.0",
         "100.14",
         "4.468",
         "227.2328068",
         "14.313"
        ],
        [
         "std",
         "12.988182381175474",
         null,
         "564366.6220536975",
         "0.25504894436982795",
         "18.44493287581158",
         "0.4590197071928525",
         "39.35671229566418",
         "1.8758847818627977"
        ]
       ],
       "shape": {
        "columns": 8,
        "rows": 8
       }
      },
      "text/html": [
       "<div>\n",
       "<style scoped>\n",
       "    .dataframe tbody tr th:only-of-type {\n",
       "        vertical-align: middle;\n",
       "    }\n",
       "\n",
       "    .dataframe tbody tr th {\n",
       "        vertical-align: top;\n",
       "    }\n",
       "\n",
       "    .dataframe thead th {\n",
       "        text-align: right;\n",
       "    }\n",
       "</style>\n",
       "<table border=\"1\" class=\"dataframe\">\n",
       "  <thead>\n",
       "    <tr style=\"text-align: right;\">\n",
       "      <th></th>\n",
       "      <th>Store</th>\n",
       "      <th>Date</th>\n",
       "      <th>Weekly_Sales</th>\n",
       "      <th>Holiday_Flag</th>\n",
       "      <th>Temperature</th>\n",
       "      <th>Fuel_Price</th>\n",
       "      <th>CPI</th>\n",
       "      <th>Unemployment</th>\n",
       "    </tr>\n",
       "  </thead>\n",
       "  <tbody>\n",
       "    <tr>\n",
       "      <th>count</th>\n",
       "      <td>6435.000000</td>\n",
       "      <td>6435</td>\n",
       "      <td>6.435000e+03</td>\n",
       "      <td>6435.000000</td>\n",
       "      <td>6435.000000</td>\n",
       "      <td>6435.000000</td>\n",
       "      <td>6435.000000</td>\n",
       "      <td>6435.000000</td>\n",
       "    </tr>\n",
       "    <tr>\n",
       "      <th>mean</th>\n",
       "      <td>23.000000</td>\n",
       "      <td>2011-06-17 00:00:00</td>\n",
       "      <td>1.046965e+06</td>\n",
       "      <td>0.069930</td>\n",
       "      <td>60.663782</td>\n",
       "      <td>3.358607</td>\n",
       "      <td>171.578394</td>\n",
       "      <td>7.999151</td>\n",
       "    </tr>\n",
       "    <tr>\n",
       "      <th>min</th>\n",
       "      <td>1.000000</td>\n",
       "      <td>2010-02-05 00:00:00</td>\n",
       "      <td>2.099862e+05</td>\n",
       "      <td>0.000000</td>\n",
       "      <td>-2.060000</td>\n",
       "      <td>2.472000</td>\n",
       "      <td>126.064000</td>\n",
       "      <td>3.879000</td>\n",
       "    </tr>\n",
       "    <tr>\n",
       "      <th>25%</th>\n",
       "      <td>12.000000</td>\n",
       "      <td>2010-10-08 00:00:00</td>\n",
       "      <td>5.533501e+05</td>\n",
       "      <td>0.000000</td>\n",
       "      <td>47.460000</td>\n",
       "      <td>2.933000</td>\n",
       "      <td>131.735000</td>\n",
       "      <td>6.891000</td>\n",
       "    </tr>\n",
       "    <tr>\n",
       "      <th>50%</th>\n",
       "      <td>23.000000</td>\n",
       "      <td>2011-06-17 00:00:00</td>\n",
       "      <td>9.607460e+05</td>\n",
       "      <td>0.000000</td>\n",
       "      <td>62.670000</td>\n",
       "      <td>3.445000</td>\n",
       "      <td>182.616521</td>\n",
       "      <td>7.874000</td>\n",
       "    </tr>\n",
       "    <tr>\n",
       "      <th>75%</th>\n",
       "      <td>34.000000</td>\n",
       "      <td>2012-02-24 00:00:00</td>\n",
       "      <td>1.420159e+06</td>\n",
       "      <td>0.000000</td>\n",
       "      <td>74.940000</td>\n",
       "      <td>3.735000</td>\n",
       "      <td>212.743293</td>\n",
       "      <td>8.622000</td>\n",
       "    </tr>\n",
       "    <tr>\n",
       "      <th>max</th>\n",
       "      <td>45.000000</td>\n",
       "      <td>2012-10-26 00:00:00</td>\n",
       "      <td>3.818686e+06</td>\n",
       "      <td>1.000000</td>\n",
       "      <td>100.140000</td>\n",
       "      <td>4.468000</td>\n",
       "      <td>227.232807</td>\n",
       "      <td>14.313000</td>\n",
       "    </tr>\n",
       "    <tr>\n",
       "      <th>std</th>\n",
       "      <td>12.988182</td>\n",
       "      <td>NaN</td>\n",
       "      <td>5.643666e+05</td>\n",
       "      <td>0.255049</td>\n",
       "      <td>18.444933</td>\n",
       "      <td>0.459020</td>\n",
       "      <td>39.356712</td>\n",
       "      <td>1.875885</td>\n",
       "    </tr>\n",
       "  </tbody>\n",
       "</table>\n",
       "</div>"
      ],
      "text/plain": [
       "             Store                 Date  Weekly_Sales  Holiday_Flag  \\\n",
       "count  6435.000000                 6435  6.435000e+03   6435.000000   \n",
       "mean     23.000000  2011-06-17 00:00:00  1.046965e+06      0.069930   \n",
       "min       1.000000  2010-02-05 00:00:00  2.099862e+05      0.000000   \n",
       "25%      12.000000  2010-10-08 00:00:00  5.533501e+05      0.000000   \n",
       "50%      23.000000  2011-06-17 00:00:00  9.607460e+05      0.000000   \n",
       "75%      34.000000  2012-02-24 00:00:00  1.420159e+06      0.000000   \n",
       "max      45.000000  2012-10-26 00:00:00  3.818686e+06      1.000000   \n",
       "std      12.988182                  NaN  5.643666e+05      0.255049   \n",
       "\n",
       "       Temperature   Fuel_Price          CPI  Unemployment  \n",
       "count  6435.000000  6435.000000  6435.000000   6435.000000  \n",
       "mean     60.663782     3.358607   171.578394      7.999151  \n",
       "min      -2.060000     2.472000   126.064000      3.879000  \n",
       "25%      47.460000     2.933000   131.735000      6.891000  \n",
       "50%      62.670000     3.445000   182.616521      7.874000  \n",
       "75%      74.940000     3.735000   212.743293      8.622000  \n",
       "max     100.140000     4.468000   227.232807     14.313000  \n",
       "std      18.444933     0.459020    39.356712      1.875885  "
      ]
     },
     "execution_count": 9,
     "metadata": {},
     "output_type": "execute_result"
    }
   ],
   "source": [
    "df.describe()"
   ]
  },
  {
   "cell_type": "markdown",
   "id": "971b289e",
   "metadata": {},
   "source": [
    "#### Basic Observations:\n",
    "\n",
    "1. Store: There are 45 total stores\n",
    "2. Date: The date range from 02 Feb 2010 to 26 Oct 2012 (Total of 994 days)\n",
    "3. Weekly Sales:\n",
    "    - The lowest sale was on 03 Dec 2010 in Store no. 33 of $209,986.25\n",
    "    - The highest sale was on 24 Dec 2010 in Store no. 14 of $3,818,686.45\n",
    "    - The average sales were $1,046,964.88\n",
    "4. Temperature:\n",
    "    - The lowest temperature was on 04 Feb 2011 of -2.06 F at Store no. 7\n",
    "    - The highest temperature was on 16 Jul 2010 of 100.14  F at Store no. 33\n",
    "    - The average temperature was 60.66 F\n",
    "5. Fuel Price:\n",
    "    - The lowest fuel price was on 19 Feb 2010 of $2.472 per gallon\n",
    "    - The highest fuel price was on 12 Oct 2012 of $4.468 per gallon\n",
    "    - The average fuel price was of $3.356 per gallon\n",
    "6. CPI:\n",
    "    - The lowest CPI was on 13 Aug 2010 of 126.064\n",
    "    - The highest CPI was on 26 Oct 2012 of 227.23\n",
    "    - The average CPI was 171.58\n",
    "7. Unemployment:\n",
    "    - The lowest unemployment rate was in Oct 2012 of 3.879%\n",
    "    - The highest unemployment rate were in Oct, Nov and Dec of 2010 of 14.313%\n",
    "    - The average unemployment rate was 8%"
   ]
  },
  {
   "cell_type": "code",
   "execution_count": 27,
   "id": "47cf72ac",
   "metadata": {},
   "outputs": [
    {
     "data": {
      "text/plain": [
       "2"
      ]
     },
     "execution_count": 27,
     "metadata": {},
     "output_type": "execute_result"
    }
   ],
   "source": [
    "df['Holiday_Flag'].nunique()"
   ]
  },
  {
   "cell_type": "code",
   "execution_count": 28,
   "id": "732f599c",
   "metadata": {},
   "outputs": [
    {
     "data": {
      "application/vnd.microsoft.datawrangler.viewer.v0+json": {
       "columns": [
        {
         "name": "Holiday_Flag",
         "rawType": "int64",
         "type": "integer"
        },
        {
         "name": "count",
         "rawType": "int64",
         "type": "integer"
        }
       ],
       "ref": "ec16f67e-bc36-4028-bb53-c830ae18059d",
       "rows": [
        [
         "0",
         "5985"
        ],
        [
         "1",
         "450"
        ]
       ],
       "shape": {
        "columns": 1,
        "rows": 2
       }
      },
      "text/plain": [
       "Holiday_Flag\n",
       "0    5985\n",
       "1     450\n",
       "Name: count, dtype: int64"
      ]
     },
     "execution_count": 28,
     "metadata": {},
     "output_type": "execute_result"
    }
   ],
   "source": [
    "df['Holiday_Flag'].value_counts()"
   ]
  },
  {
   "cell_type": "markdown",
   "id": "5332cd28",
   "metadata": {},
   "source": [
    "#### Creating a new column `Holiday_Event` to specific which holiday is a certain date if it's a holiday else not a holiday.\n",
    "\n",
    "- Holiday Events: <br /> \n",
    "    - Super Bowl: 12-Feb-10, 11-Feb-11, 10-Feb-12, 8-Feb-13<br /> \n",
    "    - Labour Day: 10-Sep-10, 9-Sep-11, 7-Sep-12, 6-Sep-13<br /> \n",
    "    - Thanksgiving: 26-Nov-10, 25-Nov-11, 23-Nov-12, 29-Nov-13<br /> \n",
    "    - Christmas: 31-Dec-10, 30-Dec-11, 28-Dec-12, 27-Dec-13\n",
    "\n",
    "**These dates are not the exact dates of those events, rather the week date that's present in the data.**"
   ]
  },
  {
   "cell_type": "code",
   "execution_count": 51,
   "id": "4827c6e7",
   "metadata": {},
   "outputs": [],
   "source": [
    "# map of events and their dates\n",
    "holiday_map = {\n",
    "    \"Super Bowl Week\": [dt.datetime(2010, 2, 12), dt.datetime(2011, 2, 11), dt.datetime(2012, 2, 10)],\n",
    "    \"Labour Day Week\": [dt.datetime(2010, 9, 10), dt.datetime(2011, 9, 9), dt.datetime(2012, 9, 7)],\n",
    "    \"Thanksgiving Week\": [dt.datetime(2010, 11, 26), dt.datetime(2011, 11, 25), dt.datetime(2012, 11, 23)],\n",
    "    \"Christmas Week\": [dt.datetime(2010, 12, 31), dt.datetime(2011, 12, 30), dt.datetime(2012, 12, 28)]\n",
    "}\n",
    "\n",
    "# holiday lookup table\n",
    "holiday_lookup = {date: event for event, dates in holiday_map.items() for date in dates}\n",
    "\n",
    "df['Holiday_Event'] = [holiday_lookup.get(date, \"Not a holiday\") for date in df['Date']]"
   ]
  },
  {
   "cell_type": "code",
   "execution_count": 52,
   "id": "e2669df7",
   "metadata": {},
   "outputs": [
    {
     "data": {
      "application/vnd.microsoft.datawrangler.viewer.v0+json": {
       "columns": [
        {
         "name": "Holiday_Event",
         "rawType": "object",
         "type": "string"
        },
        {
         "name": "count",
         "rawType": "int64",
         "type": "integer"
        }
       ],
       "ref": "7aba83c0-6e60-4a99-86b6-b3a529775ef9",
       "rows": [
        [
         "Not a holiday",
         "5985"
        ],
        [
         "Super Bowl Week",
         "135"
        ],
        [
         "Labour Day Week",
         "135"
        ],
        [
         "Thanksgiving Week",
         "90"
        ],
        [
         "Christmas Week",
         "90"
        ]
       ],
       "shape": {
        "columns": 1,
        "rows": 5
       }
      },
      "text/plain": [
       "Holiday_Event\n",
       "Not a holiday        5985\n",
       "Super Bowl Week       135\n",
       "Labour Day Week       135\n",
       "Thanksgiving Week      90\n",
       "Christmas Week         90\n",
       "Name: count, dtype: int64"
      ]
     },
     "execution_count": 52,
     "metadata": {},
     "output_type": "execute_result"
    }
   ],
   "source": [
    "df['Holiday_Event'].value_counts()"
   ]
  },
  {
   "cell_type": "markdown",
   "id": "8602e46d",
   "metadata": {},
   "source": [
    "#### Creating separate cols for day, month and year"
   ]
  },
  {
   "cell_type": "code",
   "execution_count": 53,
   "id": "5c21839d",
   "metadata": {},
   "outputs": [],
   "source": [
    "df['day'] = df['Date'].dt.day   # Extracting day from Date\n",
    "df['month'] = df['Date'].dt.month # Extracting month from Date\n",
    "df['year'] = df['Date'].dt.year   # Extracting year from Date"
   ]
  },
  {
   "cell_type": "code",
   "execution_count": 54,
   "id": "dec19b83",
   "metadata": {},
   "outputs": [
    {
     "data": {
      "text/plain": [
       "(31, 12, 3)"
      ]
     },
     "execution_count": 54,
     "metadata": {},
     "output_type": "execute_result"
    }
   ],
   "source": [
    "df['day'].nunique(), df['month'].nunique(), df['year'].nunique()    # Unique values for day, month, year"
   ]
  },
  {
   "cell_type": "markdown",
   "id": "7e5f06c6",
   "metadata": {},
   "source": [
    "# 3. Handling Missing and duplicate values:"
   ]
  },
  {
   "cell_type": "code",
   "execution_count": 55,
   "id": "eef753e3",
   "metadata": {},
   "outputs": [
    {
     "data": {
      "application/vnd.microsoft.datawrangler.viewer.v0+json": {
       "columns": [
        {
         "name": "index",
         "rawType": "object",
         "type": "string"
        },
        {
         "name": "0",
         "rawType": "int64",
         "type": "integer"
        }
       ],
       "ref": "817d8f85-2d43-4743-b884-ac34224d82a1",
       "rows": [
        [
         "Store",
         "0"
        ],
        [
         "Date",
         "0"
        ],
        [
         "Weekly_Sales",
         "0"
        ],
        [
         "Holiday_Flag",
         "0"
        ],
        [
         "Temperature",
         "0"
        ],
        [
         "Fuel_Price",
         "0"
        ],
        [
         "CPI",
         "0"
        ],
        [
         "Unemployment",
         "0"
        ],
        [
         "Holiday_Event",
         "0"
        ],
        [
         "day",
         "0"
        ],
        [
         "month",
         "0"
        ],
        [
         "year",
         "0"
        ]
       ],
       "shape": {
        "columns": 1,
        "rows": 12
       }
      },
      "text/plain": [
       "Store            0\n",
       "Date             0\n",
       "Weekly_Sales     0\n",
       "Holiday_Flag     0\n",
       "Temperature      0\n",
       "Fuel_Price       0\n",
       "CPI              0\n",
       "Unemployment     0\n",
       "Holiday_Event    0\n",
       "day              0\n",
       "month            0\n",
       "year             0\n",
       "dtype: int64"
      ]
     },
     "execution_count": 55,
     "metadata": {},
     "output_type": "execute_result"
    }
   ],
   "source": [
    "df.isna().sum()  # Check for missing values"
   ]
  },
  {
   "cell_type": "markdown",
   "id": "453d40ab",
   "metadata": {},
   "source": [
    "Thankfully there are no missing values in the data."
   ]
  },
  {
   "cell_type": "code",
   "execution_count": 56,
   "id": "c7fe235c",
   "metadata": {},
   "outputs": [
    {
     "data": {
      "text/plain": [
       "np.int64(0)"
      ]
     },
     "execution_count": 56,
     "metadata": {},
     "output_type": "execute_result"
    }
   ],
   "source": [
    "df.duplicated().sum()  # Check for duplicate rows"
   ]
  },
  {
   "cell_type": "markdown",
   "id": "8d2ac598",
   "metadata": {},
   "source": [
    "There are no duplicate rows either."
   ]
  },
  {
   "cell_type": "markdown",
   "id": "452e0179",
   "metadata": {},
   "source": [
    "#### Why does Labour day and Super Bowl appears more times than any other holiday events?\n",
    "\n",
    "- The data is from 02 Feb 2010 to 26 Oct 2012, so Thanksgiving and Christmas weeks appears only twice - in 2010 and 2011, and not in 2012. Therefore, 45 stores * 2 years = 90 appearances.\n",
    "\n",
    "- Whereas Super Bowl and Labour Day appears in 2012 as well, thus 45*3 = 135 counts."
   ]
  },
  {
   "cell_type": "code",
   "execution_count": 60,
   "id": "aed15d58",
   "metadata": {},
   "outputs": [
    {
     "name": "stdout",
     "output_type": "stream",
     "text": [
      "Super Bowl dates:-  <DatetimeArray>\n",
      "['2010-02-12 00:00:00', '2011-02-11 00:00:00', '2012-02-10 00:00:00']\n",
      "Length: 3, dtype: datetime64[ns]\n",
      "\n",
      "Labour day dates:-  <DatetimeArray>\n",
      "['2010-09-10 00:00:00', '2011-09-09 00:00:00', '2012-09-07 00:00:00']\n",
      "Length: 3, dtype: datetime64[ns]\n",
      "\n",
      "Thanksgiving dates:-  <DatetimeArray>\n",
      "['2010-11-26 00:00:00', '2011-11-25 00:00:00']\n",
      "Length: 2, dtype: datetime64[ns]\n",
      "\n",
      "Christmas dates:-  <DatetimeArray>\n",
      "['2010-12-31 00:00:00', '2011-12-30 00:00:00']\n",
      "Length: 2, dtype: datetime64[ns]\n"
     ]
    }
   ],
   "source": [
    "print(\"Super Bowl dates:- \", df[df['Holiday_Event'] == \"Super Bowl Week\"]['Date'].unique())\n",
    "print(\"\\nLabour day dates:- \", df[df['Holiday_Event'] == \"Labour Day Week\"]['Date'].unique())\n",
    "print(\"\\nThanksgiving dates:- \", df[df['Holiday_Event'] == \"Thanksgiving Week\"]['Date'].unique())\n",
    "print(\"\\nChristmas dates:- \", df[df['Holiday_Event'] == \"Christmas Week\"]['Date'].unique())"
   ]
  },
  {
   "cell_type": "code",
   "execution_count": 65,
   "id": "642a46d9",
   "metadata": {},
   "outputs": [
    {
     "data": {
      "application/vnd.microsoft.datawrangler.viewer.v0+json": {
       "columns": [
        {
         "name": "index",
         "rawType": "int64",
         "type": "integer"
        },
        {
         "name": "Store",
         "rawType": "int64",
         "type": "integer"
        },
        {
         "name": "Date",
         "rawType": "datetime64[ns]",
         "type": "datetime"
        },
        {
         "name": "Weekly_Sales",
         "rawType": "float64",
         "type": "float"
        },
        {
         "name": "Holiday_Flag",
         "rawType": "int64",
         "type": "integer"
        },
        {
         "name": "Temperature",
         "rawType": "float64",
         "type": "float"
        },
        {
         "name": "Fuel_Price",
         "rawType": "float64",
         "type": "float"
        },
        {
         "name": "CPI",
         "rawType": "float64",
         "type": "float"
        },
        {
         "name": "Unemployment",
         "rawType": "float64",
         "type": "float"
        },
        {
         "name": "Holiday_Event",
         "rawType": "object",
         "type": "string"
        },
        {
         "name": "day",
         "rawType": "int32",
         "type": "integer"
        },
        {
         "name": "month",
         "rawType": "int32",
         "type": "integer"
        },
        {
         "name": "year",
         "rawType": "int32",
         "type": "integer"
        }
       ],
       "ref": "cbc6aa16-0392-41ce-8df4-2761dfe4ac08",
       "rows": [
        [
         "0",
         "1",
         "2010-02-05 00:00:00",
         "1643690.9",
         "0",
         "42.31",
         "2.572",
         "211.0963582",
         "8.106",
         "Not a holiday",
         "5",
         "2",
         "2010"
        ],
        [
         "1",
         "1",
         "2010-02-12 00:00:00",
         "1641957.44",
         "1",
         "38.51",
         "2.548",
         "211.2421698",
         "8.106",
         "Super Bowl Week",
         "12",
         "2",
         "2010"
        ],
        [
         "2",
         "1",
         "2010-02-19 00:00:00",
         "1611968.17",
         "0",
         "39.93",
         "2.514",
         "211.2891429",
         "8.106",
         "Not a holiday",
         "19",
         "2",
         "2010"
        ],
        [
         "3",
         "1",
         "2010-02-26 00:00:00",
         "1409727.59",
         "0",
         "46.63",
         "2.561",
         "211.3196429",
         "8.106",
         "Not a holiday",
         "26",
         "2",
         "2010"
        ],
        [
         "4",
         "1",
         "2010-03-05 00:00:00",
         "1554806.68",
         "0",
         "46.5",
         "2.625",
         "211.3501429",
         "8.106",
         "Not a holiday",
         "5",
         "3",
         "2010"
        ]
       ],
       "shape": {
        "columns": 12,
        "rows": 5
       }
      },
      "text/html": [
       "<div>\n",
       "<style scoped>\n",
       "    .dataframe tbody tr th:only-of-type {\n",
       "        vertical-align: middle;\n",
       "    }\n",
       "\n",
       "    .dataframe tbody tr th {\n",
       "        vertical-align: top;\n",
       "    }\n",
       "\n",
       "    .dataframe thead th {\n",
       "        text-align: right;\n",
       "    }\n",
       "</style>\n",
       "<table border=\"1\" class=\"dataframe\">\n",
       "  <thead>\n",
       "    <tr style=\"text-align: right;\">\n",
       "      <th></th>\n",
       "      <th>Store</th>\n",
       "      <th>Date</th>\n",
       "      <th>Weekly_Sales</th>\n",
       "      <th>Holiday_Flag</th>\n",
       "      <th>Temperature</th>\n",
       "      <th>Fuel_Price</th>\n",
       "      <th>CPI</th>\n",
       "      <th>Unemployment</th>\n",
       "      <th>Holiday_Event</th>\n",
       "      <th>day</th>\n",
       "      <th>month</th>\n",
       "      <th>year</th>\n",
       "    </tr>\n",
       "  </thead>\n",
       "  <tbody>\n",
       "    <tr>\n",
       "      <th>0</th>\n",
       "      <td>1</td>\n",
       "      <td>2010-02-05</td>\n",
       "      <td>1643690.90</td>\n",
       "      <td>0</td>\n",
       "      <td>42.31</td>\n",
       "      <td>2.572</td>\n",
       "      <td>211.096358</td>\n",
       "      <td>8.106</td>\n",
       "      <td>Not a holiday</td>\n",
       "      <td>5</td>\n",
       "      <td>2</td>\n",
       "      <td>2010</td>\n",
       "    </tr>\n",
       "    <tr>\n",
       "      <th>1</th>\n",
       "      <td>1</td>\n",
       "      <td>2010-02-12</td>\n",
       "      <td>1641957.44</td>\n",
       "      <td>1</td>\n",
       "      <td>38.51</td>\n",
       "      <td>2.548</td>\n",
       "      <td>211.242170</td>\n",
       "      <td>8.106</td>\n",
       "      <td>Super Bowl Week</td>\n",
       "      <td>12</td>\n",
       "      <td>2</td>\n",
       "      <td>2010</td>\n",
       "    </tr>\n",
       "    <tr>\n",
       "      <th>2</th>\n",
       "      <td>1</td>\n",
       "      <td>2010-02-19</td>\n",
       "      <td>1611968.17</td>\n",
       "      <td>0</td>\n",
       "      <td>39.93</td>\n",
       "      <td>2.514</td>\n",
       "      <td>211.289143</td>\n",
       "      <td>8.106</td>\n",
       "      <td>Not a holiday</td>\n",
       "      <td>19</td>\n",
       "      <td>2</td>\n",
       "      <td>2010</td>\n",
       "    </tr>\n",
       "    <tr>\n",
       "      <th>3</th>\n",
       "      <td>1</td>\n",
       "      <td>2010-02-26</td>\n",
       "      <td>1409727.59</td>\n",
       "      <td>0</td>\n",
       "      <td>46.63</td>\n",
       "      <td>2.561</td>\n",
       "      <td>211.319643</td>\n",
       "      <td>8.106</td>\n",
       "      <td>Not a holiday</td>\n",
       "      <td>26</td>\n",
       "      <td>2</td>\n",
       "      <td>2010</td>\n",
       "    </tr>\n",
       "    <tr>\n",
       "      <th>4</th>\n",
       "      <td>1</td>\n",
       "      <td>2010-03-05</td>\n",
       "      <td>1554806.68</td>\n",
       "      <td>0</td>\n",
       "      <td>46.50</td>\n",
       "      <td>2.625</td>\n",
       "      <td>211.350143</td>\n",
       "      <td>8.106</td>\n",
       "      <td>Not a holiday</td>\n",
       "      <td>5</td>\n",
       "      <td>3</td>\n",
       "      <td>2010</td>\n",
       "    </tr>\n",
       "  </tbody>\n",
       "</table>\n",
       "</div>"
      ],
      "text/plain": [
       "   Store       Date  Weekly_Sales  Holiday_Flag  Temperature  Fuel_Price  \\\n",
       "0      1 2010-02-05    1643690.90             0        42.31       2.572   \n",
       "1      1 2010-02-12    1641957.44             1        38.51       2.548   \n",
       "2      1 2010-02-19    1611968.17             0        39.93       2.514   \n",
       "3      1 2010-02-26    1409727.59             0        46.63       2.561   \n",
       "4      1 2010-03-05    1554806.68             0        46.50       2.625   \n",
       "\n",
       "          CPI  Unemployment    Holiday_Event  day  month  year  \n",
       "0  211.096358         8.106    Not a holiday    5      2  2010  \n",
       "1  211.242170         8.106  Super Bowl Week   12      2  2010  \n",
       "2  211.289143         8.106    Not a holiday   19      2  2010  \n",
       "3  211.319643         8.106    Not a holiday   26      2  2010  \n",
       "4  211.350143         8.106    Not a holiday    5      3  2010  "
      ]
     },
     "execution_count": 65,
     "metadata": {},
     "output_type": "execute_result"
    }
   ],
   "source": [
    "df.head()"
   ]
  },
  {
   "cell_type": "markdown",
   "id": "4760a214",
   "metadata": {},
   "source": [
    "# Storing cleaned data for further analysis:"
   ]
  },
  {
   "cell_type": "code",
   "execution_count": 66,
   "id": "a51e75f7",
   "metadata": {},
   "outputs": [],
   "source": [
    "df.to_csv('../data/01_data_cleaned.csv', index=False)   # storing cleaned data"
   ]
  },
  {
   "cell_type": "code",
   "execution_count": null,
   "id": "28f712f6",
   "metadata": {},
   "outputs": [],
   "source": []
  }
 ],
 "metadata": {
  "kernelspec": {
   "display_name": ".venv",
   "language": "python",
   "name": "python3"
  },
  "language_info": {
   "codemirror_mode": {
    "name": "ipython",
    "version": 3
   },
   "file_extension": ".py",
   "mimetype": "text/x-python",
   "name": "python",
   "nbconvert_exporter": "python",
   "pygments_lexer": "ipython3",
   "version": "3.12.7"
  }
 },
 "nbformat": 4,
 "nbformat_minor": 5
}
